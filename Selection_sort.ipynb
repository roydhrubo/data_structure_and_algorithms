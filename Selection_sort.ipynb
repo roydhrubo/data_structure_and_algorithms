{
  "nbformat": 4,
  "nbformat_minor": 0,
  "metadata": {
    "colab": {
      "provenance": [],
      "authorship_tag": "ABX9TyMbDHUw4BtaT0BojbclEGK2",
      "include_colab_link": true
    },
    "kernelspec": {
      "name": "python3",
      "display_name": "Python 3"
    },
    "language_info": {
      "name": "python"
    }
  },
  "cells": [
    {
      "cell_type": "markdown",
      "metadata": {
        "id": "view-in-github",
        "colab_type": "text"
      },
      "source": [
        "<a href=\"https://colab.research.google.com/github/roydhrubo/data_structure_and_algorithms/blob/main/Selection_sort.ipynb\" target=\"_parent\"><img src=\"https://colab.research.google.com/assets/colab-badge.svg\" alt=\"Open In Colab\"/></a>"
      ]
    },
    {
      "cell_type": "code",
      "execution_count": 3,
      "metadata": {
        "id": "Y5x7FT2VHz9B"
      },
      "outputs": [],
      "source": [
        "# this is selection sort algorithm\n",
        "# time complexity of selection sort is O(n^2)\n",
        "# in selection sort each number is compared with other numbers to find the minimum\n",
        "\n",
        "def selection_sort(array):\n",
        "\n",
        "  # find the length of the array, n \n",
        "  n = len(array)\n",
        "\n",
        "  # outer loop\n",
        "  for i in range(n-1):\n",
        "\n",
        "    # let the ith index has the smallest element\n",
        "    indx_min = i\n",
        "\n",
        "    # inner loop, runs from i to n\n",
        "    # for loop with range has the form  \" for ___ in range(start,stop,step) \"\n",
        "    for j in range(i+1,n):\n",
        "\n",
        "      # compare if jth element is smaller\n",
        "      if (array[indx_min] > array[j]):\n",
        "        \n",
        "        # changing indx_min to jth index\n",
        "        indx_min = j\n",
        "    \n",
        "    # swap the smallest element with the ith element if ith element is not already smallest\n",
        "    if (indx_min != i):\n",
        "      temp = array[i]\n",
        "      array[i] = array[indx_min]\n",
        "      array[indx_min] = temp\n",
        "      "
      ]
    },
    {
      "cell_type": "code",
      "source": [
        "# test case\n",
        "a = [98,12,11,10,2,38,77,41,23,110,89,7,5,13]\n",
        "print('Before sorting:\\na = ',a)\n",
        "selection_sort(a)\n",
        "print('After sorting:\\na = ', a)"
      ],
      "metadata": {
        "colab": {
          "base_uri": "https://localhost:8080/"
        },
        "id": "JO4Su4xmPN10",
        "outputId": "de142418-7276-4c98-b337-520fbfb193ea"
      },
      "execution_count": 10,
      "outputs": [
        {
          "output_type": "stream",
          "name": "stdout",
          "text": [
            "Before sorting:\n",
            "a =  [98, 12, 11, 10, 2, 38, 77, 41, 23, 110, 89, 7, 5, 13]\n",
            "After sorting:\n",
            "a =  [2, 5, 7, 10, 11, 12, 13, 23, 38, 41, 77, 89, 98, 110]\n"
          ]
        }
      ]
    },
    {
      "cell_type": "code",
      "source": [],
      "metadata": {
        "id": "k3rNu-2aP09G"
      },
      "execution_count": null,
      "outputs": []
    }
  ]
}