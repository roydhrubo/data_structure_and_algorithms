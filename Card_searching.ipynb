{
  "nbformat": 4,
  "nbformat_minor": 0,
  "metadata": {
    "colab": {
      "provenance": [],
      "authorship_tag": "ABX9TyNjLm8kHOWszrhEduL88QT7",
      "include_colab_link": true
    },
    "kernelspec": {
      "name": "python3",
      "display_name": "Python 3"
    },
    "language_info": {
      "name": "python"
    }
  },
  "cells": [
    {
      "cell_type": "markdown",
      "metadata": {
        "id": "view-in-github",
        "colab_type": "text"
      },
      "source": [
        "<a href=\"https://colab.research.google.com/github/roydhrubo/data_structure_and_algorithms/blob/main/Card_searching.ipynb\" target=\"_parent\"><img src=\"https://colab.research.google.com/assets/colab-badge.svg\" alt=\"Open In Colab\"/></a>"
      ]
    },
    {
      "cell_type": "code",
      "execution_count": 1,
      "metadata": {
        "id": "0gRYqq0eeJ3W"
      },
      "outputs": [],
      "source": [
        "def locate_card(cards,query):\n",
        "\n",
        "  # this is linear search method\n",
        "\n",
        "  # declare the initial position 0 for the first card\n",
        "  position = 0\n",
        "\n",
        "  # create the loop for searching all the cards one by one\n",
        "  while True:\n",
        "    \n",
        "    # check the card at the current position matches the query\n",
        "    if cards[position] == query:\n",
        "\n",
        "      # if matches return the card position\n",
        "      return position\n",
        "    \n",
        "    # if the query is not matched then check the next card\n",
        "    position += 1\n",
        "\n",
        "    # check if the last card is reached\n",
        "    if position == len(cards):\n",
        "\n",
        "      # number is not found\n",
        "      return -1\n",
        "    "
      ]
    },
    {
      "cell_type": "code",
      "source": [
        "test = {'input':{'cards':[12,23,31,4,53,78,81,99,121],'query':23}}"
      ],
      "metadata": {
        "id": "Cz5idZnphFLO"
      },
      "execution_count": 2,
      "outputs": []
    },
    {
      "cell_type": "code",
      "source": [
        "test['input']['cards']"
      ],
      "metadata": {
        "colab": {
          "base_uri": "https://localhost:8080/"
        },
        "id": "SNTrmvWZiEG2",
        "outputId": "fe59769b-f16a-4c17-aba3-825d1f7fe746"
      },
      "execution_count": 10,
      "outputs": [
        {
          "output_type": "execute_result",
          "data": {
            "text/plain": [
              "[12, 23, 31, 4, 53, 78, 81, 99, 121]"
            ]
          },
          "metadata": {},
          "execution_count": 10
        }
      ]
    },
    {
      "cell_type": "code",
      "source": [
        "test['input']['query']"
      ],
      "metadata": {
        "colab": {
          "base_uri": "https://localhost:8080/"
        },
        "id": "YhLx_yzniKdK",
        "outputId": "185e60c8-b98b-4616-dc5e-f004096fdbea"
      },
      "execution_count": 11,
      "outputs": [
        {
          "output_type": "execute_result",
          "data": {
            "text/plain": [
              "23"
            ]
          },
          "metadata": {},
          "execution_count": 11
        }
      ]
    },
    {
      "cell_type": "code",
      "source": [
        "locate_card(test['input']['cards'],test['input']['query'])"
      ],
      "metadata": {
        "colab": {
          "base_uri": "https://localhost:8080/"
        },
        "id": "Fp_yPQajip6T",
        "outputId": "1f105ebe-1200-4eb1-8a54-aec3f83b8422"
      },
      "execution_count": 12,
      "outputs": [
        {
          "output_type": "execute_result",
          "data": {
            "text/plain": [
              "1"
            ]
          },
          "metadata": {},
          "execution_count": 12
        }
      ]
    },
    {
      "cell_type": "code",
      "source": [
        "locate_card(**test['input'])"
      ],
      "metadata": {
        "colab": {
          "base_uri": "https://localhost:8080/"
        },
        "id": "J3Xfei6ei1gQ",
        "outputId": "72b320ef-b5dd-43a2-df25-e3a8c13d371f"
      },
      "execution_count": 13,
      "outputs": [
        {
          "output_type": "execute_result",
          "data": {
            "text/plain": [
              "1"
            ]
          },
          "metadata": {},
          "execution_count": 13
        }
      ]
    },
    {
      "cell_type": "code",
      "source": [],
      "metadata": {
        "id": "VYU2WtM1jDw7"
      },
      "execution_count": null,
      "outputs": []
    }
  ]
}