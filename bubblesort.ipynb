{
 "cells": [
  {
   "cell_type": "code",
   "execution_count": 1,
   "id": "14291972",
   "metadata": {
    "_cell_guid": "b1076dfc-b9ad-4769-8c92-a6c4dae69d19",
    "_uuid": "8f2839f25d086af736a60e9eeb907d3b93b6e0e5",
    "execution": {
     "iopub.execute_input": "2022-11-26T09:43:21.699845Z",
     "iopub.status.busy": "2022-11-26T09:43:21.699132Z",
     "iopub.status.idle": "2022-11-26T09:43:21.710327Z",
     "shell.execute_reply": "2022-11-26T09:43:21.709410Z"
    },
    "papermill": {
     "duration": 0.018572,
     "end_time": "2022-11-26T09:43:21.712854",
     "exception": false,
     "start_time": "2022-11-26T09:43:21.694282",
     "status": "completed"
    },
    "tags": []
   },
   "outputs": [],
   "source": [
    "# This Python 3 environment comes with many helpful analytics libraries installed\n",
    "# It is defined by the kaggle/python Docker image: https://github.com/kaggle/docker-python\n",
    "# For example, here's several helpful packages to load\n",
    "\n",
    "import numpy as np # linear algebra\n",
    "import pandas as pd # data processing, CSV file I/O (e.g. pd.read_csv)\n",
    "\n",
    "# Input data files are available in the read-only \"../input/\" directory\n",
    "# For example, running this (by clicking run or pressing Shift+Enter) will list all files under the input directory\n",
    "\n",
    "import os\n",
    "for dirname, _, filenames in os.walk('/kaggle/input'):\n",
    "    for filename in filenames:\n",
    "        print(os.path.join(dirname, filename))\n",
    "\n",
    "# You can write up to 20GB to the current directory (/kaggle/working/) that gets preserved as output when you create a version using \"Save & Run All\" \n",
    "# You can also write temporary files to /kaggle/temp/, but they won't be saved outside of the current session"
   ]
  },
  {
   "cell_type": "code",
   "execution_count": 2,
   "id": "c2660529",
   "metadata": {
    "execution": {
     "iopub.execute_input": "2022-11-26T09:43:21.718891Z",
     "iopub.status.busy": "2022-11-26T09:43:21.718214Z",
     "iopub.status.idle": "2022-11-26T09:43:21.724519Z",
     "shell.execute_reply": "2022-11-26T09:43:21.723631Z"
    },
    "papermill": {
     "duration": 0.011649,
     "end_time": "2022-11-26T09:43:21.726736",
     "exception": false,
     "start_time": "2022-11-26T09:43:21.715087",
     "status": "completed"
    },
    "tags": []
   },
   "outputs": [],
   "source": [
    "# bubble sort algorithm is used to compare neighbouring numbers and sort them in ascending order\n",
    "# the time complexity of this sorting algorithm is O(n^2)\n",
    "\n",
    "def bubbleSort(array):\n",
    "    \n",
    "    # find the length of the given array\n",
    "    # the length,n would help to know how long the loop is needed to be run\n",
    "    n = len(array)\n",
    "    \n",
    "    # the outer loop would run n times\n",
    "    for i in range(n):\n",
    "        \n",
    "        # the inner loop would run each time one less than the previous time it ran\n",
    "        # that is so since after the first run the biggest number would go in the last \n",
    "        for j in range(n-i-1):\n",
    "            \n",
    "            # compare between two neighbouring numbers\n",
    "            # put the bigger number second and smaller number first\n",
    "            if ( array[j] > array[j+1] ):\n",
    "                temp = array[j]\n",
    "                array[j] = array[j+1]\n",
    "                array[j+1] = temp"
   ]
  },
  {
   "cell_type": "code",
   "execution_count": 3,
   "id": "272b3f5c",
   "metadata": {
    "execution": {
     "iopub.execute_input": "2022-11-26T09:43:21.732190Z",
     "iopub.status.busy": "2022-11-26T09:43:21.731751Z",
     "iopub.status.idle": "2022-11-26T09:43:21.738685Z",
     "shell.execute_reply": "2022-11-26T09:43:21.737137Z"
    },
    "papermill": {
     "duration": 0.012632,
     "end_time": "2022-11-26T09:43:21.741338",
     "exception": false,
     "start_time": "2022-11-26T09:43:21.728706",
     "status": "completed"
    },
    "tags": []
   },
   "outputs": [
    {
     "name": "stdout",
     "output_type": "stream",
     "text": [
      "[2, 12, 27, 43, 76, 79, 99, 101]\n"
     ]
    }
   ],
   "source": [
    "# test case\n",
    "a = [43,12,101,2,76,99,27,79]\n",
    "bubbleSort(a)\n",
    "print(a)"
   ]
  }
 ],
 "metadata": {
  "kernelspec": {
   "display_name": "Python 3",
   "language": "python",
   "name": "python3"
  },
  "language_info": {
   "codemirror_mode": {
    "name": "ipython",
    "version": 3
   },
   "file_extension": ".py",
   "mimetype": "text/x-python",
   "name": "python",
   "nbconvert_exporter": "python",
   "pygments_lexer": "ipython3",
   "version": "3.7.12"
  },
  "papermill": {
   "default_parameters": {},
   "duration": 10.231002,
   "end_time": "2022-11-26T09:43:22.465614",
   "environment_variables": {},
   "exception": null,
   "input_path": "__notebook__.ipynb",
   "output_path": "__notebook__.ipynb",
   "parameters": {},
   "start_time": "2022-11-26T09:43:12.234612",
   "version": "2.3.4"
  }
 },
 "nbformat": 4,
 "nbformat_minor": 5
}
